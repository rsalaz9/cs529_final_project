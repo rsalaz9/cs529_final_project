{
 "cells": [
  {
   "cell_type": "code",
   "execution_count": 6,
   "metadata": {},
   "outputs": [],
   "source": [
    "import csv, json\n",
    "from geojson import Feature, FeatureCollection, Point\n",
    "\n",
    "features = []\n",
    "with open('1901.csv', newline='') as csvfile:\n",
    "    reader = csv.reader(csvfile, delimiter=',')\n",
    "    next(reader, None)  # skip the headers\n",
    "    for Long, Lat, value in reader:\n",
    "        Long, Lat = map(float, (Long, Lat))\n",
    "        features.append(\n",
    "            Feature(\n",
    "                geometry = Point((Long, Lat)),\n",
    "                properties = {\n",
    "                    'Value': value,\n",
    "                }\n",
    "            )\n",
    "        )\n",
    "\n",
    "collection = FeatureCollection(features)\n",
    "with open(\"./temp/1901.geojson\", \"w\") as f:\n",
    "    f.write('%s' % collection)"
   ]
  },
  {
   "cell_type": "code",
   "execution_count": null,
   "metadata": {},
   "outputs": [],
   "source": []
  }
 ],
 "metadata": {
  "kernelspec": {
   "display_name": "Python 3",
   "language": "python",
   "name": "python3"
  },
  "language_info": {
   "codemirror_mode": {
    "name": "ipython",
    "version": 3
   },
   "file_extension": ".py",
   "mimetype": "text/x-python",
   "name": "python",
   "nbconvert_exporter": "python",
   "pygments_lexer": "ipython3",
   "version": "3.7.3"
  }
 },
 "nbformat": 4,
 "nbformat_minor": 2
}
